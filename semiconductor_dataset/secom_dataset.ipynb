{
 "cells": [
  {
   "cell_type": "markdown",
   "metadata": {},
   "source": [
    "# SECOM dataset\n",
    "\n",
    "Dataset source in this <a href=\"https://archive.ics.uci.edu/ml/datasets/SECOM\">link</a> \n",
    "\n",
    "**Data Set Information:**\n",
    "\n",
    "The data consists of 2 files the dataset file SECOM consisting of 1567 examples each with 591 features a 1567 x 591 matrix and a labels file containing the classifications and date time stamp for each example.\n",
    "\n",
    "**Prediction needed**\n",
    "\n",
    "Create a model that predict (classifies) if a chip is manufactured corretly or faulty. Ideally, the lest faulty chips that are delivered to customers the better. \n",
    "\n",
    "**Model used**\n",
    "\n",
    "For the predictions I used Random Forest, since this model is not sensitive to outliers and it does not requires much feature transformation. Additional, I used Boruta in order to reduce the amount of feaures used in the model\n",
    "\n",
    "**Results**\n",
    "\n",
    "For our final model results:\n",
    "\n",
    "- `Accuracy = 0.91`\n",
    "- `Precision = 0.18`\n",
    "- `Recall = 0.31`"
   ]
  },
  {
   "cell_type": "markdown",
   "metadata": {},
   "source": [
    "## Importing needed libraries"
   ]
  },
  {
   "cell_type": "code",
   "execution_count": 40,
   "metadata": {},
   "outputs": [],
   "source": [
    "# Basic libraries for data manipulation & plots\n",
    "import numpy as np\n",
    "import pandas as pd\n",
    "import matplotlib.pyplot as plt\n",
    "import seaborn as sns\n",
    "%matplotlib inline\n",
    "\n",
    "# Split data\n",
    "from sklearn.model_selection import train_test_split\n",
    "\n",
    "# Feature selection with boruta\n",
    "from boruta import BorutaPy\n",
    "\n",
    "# Random Forest\n",
    "from sklearn.ensemble import RandomForestClassifier\n",
    "\n",
    "# SMOTE: Imbalanced data\n",
    "from imblearn.over_sampling import SMOTE\n",
    "\n",
    "# Tomek Links\n",
    "from imblearn.under_sampling import TomekLinks\n",
    "\n",
    "# Predictions\n",
    "from sklearn.metrics import accuracy_score, precision_score, recall_score, confusion_matrix"
   ]
  },
  {
   "cell_type": "markdown",
   "metadata": {},
   "source": [
    "## Importing the Secom dataset from the UCI Machine Learning Repository"
   ]
  },
  {
   "cell_type": "code",
   "execution_count": 2,
   "metadata": {},
   "outputs": [],
   "source": [
    "#Importing the sensors data\n",
    "url = \"http://archive.ics.uci.edu/ml/machine-learning-databases/secom/secom.data\"\n",
    "secom = pd.read_table(url, header=None, delim_whitespace=True)"
   ]
  },
  {
   "cell_type": "code",
   "execution_count": 3,
   "metadata": {},
   "outputs": [],
   "source": [
    "#Renaming the variables\n",
    "secom = secom.add_prefix('sensor_')"
   ]
  },
  {
   "cell_type": "code",
   "execution_count": 4,
   "metadata": {},
   "outputs": [],
   "source": [
    "#Importing the target variable data\n",
    "url = \"http://archive.ics.uci.edu/ml/machine-learning-databases/secom/secom_labels.data\"\n",
    "labels = pd.read_table(url, header=None, usecols=[0], squeeze=True, delim_whitespace=True)"
   ]
  },
  {
   "cell_type": "code",
   "execution_count": 5,
   "metadata": {},
   "outputs": [],
   "source": [
    "#Merging both data with labels\n",
    "df = pd.concat([secom, labels], axis=1)"
   ]
  },
  {
   "cell_type": "code",
   "execution_count": 6,
   "metadata": {},
   "outputs": [],
   "source": [
    "#Rename target variable\n",
    "df = df.rename(columns={0: \"target_variable\"})"
   ]
  },
  {
   "cell_type": "code",
   "execution_count": 7,
   "metadata": {},
   "outputs": [],
   "source": [
    "#Replace Nan hard-coded with actualy Nan\n",
    "df = df.replace('NaN', np.nan)"
   ]
  },
  {
   "cell_type": "code",
   "execution_count": 8,
   "metadata": {},
   "outputs": [
    {
     "data": {
      "text/plain": [
       "(1567, 591)"
      ]
     },
     "execution_count": 8,
     "metadata": {},
     "output_type": "execute_result"
    }
   ],
   "source": [
    "df.shape"
   ]
  },
  {
   "cell_type": "code",
   "execution_count": 9,
   "metadata": {},
   "outputs": [
    {
     "data": {
      "text/html": [
       "<div>\n",
       "<style scoped>\n",
       "    .dataframe tbody tr th:only-of-type {\n",
       "        vertical-align: middle;\n",
       "    }\n",
       "\n",
       "    .dataframe tbody tr th {\n",
       "        vertical-align: top;\n",
       "    }\n",
       "\n",
       "    .dataframe thead th {\n",
       "        text-align: right;\n",
       "    }\n",
       "</style>\n",
       "<table border=\"1\" class=\"dataframe\">\n",
       "  <thead>\n",
       "    <tr style=\"text-align: right;\">\n",
       "      <th></th>\n",
       "      <th>sensor_0</th>\n",
       "      <th>sensor_1</th>\n",
       "      <th>sensor_2</th>\n",
       "      <th>sensor_3</th>\n",
       "      <th>sensor_4</th>\n",
       "      <th>sensor_5</th>\n",
       "      <th>sensor_6</th>\n",
       "      <th>sensor_7</th>\n",
       "      <th>sensor_8</th>\n",
       "      <th>sensor_9</th>\n",
       "      <th>...</th>\n",
       "      <th>sensor_581</th>\n",
       "      <th>sensor_582</th>\n",
       "      <th>sensor_583</th>\n",
       "      <th>sensor_584</th>\n",
       "      <th>sensor_585</th>\n",
       "      <th>sensor_586</th>\n",
       "      <th>sensor_587</th>\n",
       "      <th>sensor_588</th>\n",
       "      <th>sensor_589</th>\n",
       "      <th>target_variable</th>\n",
       "    </tr>\n",
       "  </thead>\n",
       "  <tbody>\n",
       "    <tr>\n",
       "      <th>0</th>\n",
       "      <td>3030.93</td>\n",
       "      <td>2564.00</td>\n",
       "      <td>2187.7333</td>\n",
       "      <td>1411.1265</td>\n",
       "      <td>1.3602</td>\n",
       "      <td>100.0</td>\n",
       "      <td>97.6133</td>\n",
       "      <td>0.1242</td>\n",
       "      <td>1.5005</td>\n",
       "      <td>0.0162</td>\n",
       "      <td>...</td>\n",
       "      <td>NaN</td>\n",
       "      <td>0.5005</td>\n",
       "      <td>0.0118</td>\n",
       "      <td>0.0035</td>\n",
       "      <td>2.3630</td>\n",
       "      <td>NaN</td>\n",
       "      <td>NaN</td>\n",
       "      <td>NaN</td>\n",
       "      <td>NaN</td>\n",
       "      <td>-1</td>\n",
       "    </tr>\n",
       "    <tr>\n",
       "      <th>1</th>\n",
       "      <td>3095.78</td>\n",
       "      <td>2465.14</td>\n",
       "      <td>2230.4222</td>\n",
       "      <td>1463.6606</td>\n",
       "      <td>0.8294</td>\n",
       "      <td>100.0</td>\n",
       "      <td>102.3433</td>\n",
       "      <td>0.1247</td>\n",
       "      <td>1.4966</td>\n",
       "      <td>-0.0005</td>\n",
       "      <td>...</td>\n",
       "      <td>208.2045</td>\n",
       "      <td>0.5019</td>\n",
       "      <td>0.0223</td>\n",
       "      <td>0.0055</td>\n",
       "      <td>4.4447</td>\n",
       "      <td>0.0096</td>\n",
       "      <td>0.0201</td>\n",
       "      <td>0.0060</td>\n",
       "      <td>208.2045</td>\n",
       "      <td>-1</td>\n",
       "    </tr>\n",
       "    <tr>\n",
       "      <th>2</th>\n",
       "      <td>2932.61</td>\n",
       "      <td>2559.94</td>\n",
       "      <td>2186.4111</td>\n",
       "      <td>1698.0172</td>\n",
       "      <td>1.5102</td>\n",
       "      <td>100.0</td>\n",
       "      <td>95.4878</td>\n",
       "      <td>0.1241</td>\n",
       "      <td>1.4436</td>\n",
       "      <td>0.0041</td>\n",
       "      <td>...</td>\n",
       "      <td>82.8602</td>\n",
       "      <td>0.4958</td>\n",
       "      <td>0.0157</td>\n",
       "      <td>0.0039</td>\n",
       "      <td>3.1745</td>\n",
       "      <td>0.0584</td>\n",
       "      <td>0.0484</td>\n",
       "      <td>0.0148</td>\n",
       "      <td>82.8602</td>\n",
       "      <td>1</td>\n",
       "    </tr>\n",
       "    <tr>\n",
       "      <th>3</th>\n",
       "      <td>2988.72</td>\n",
       "      <td>2479.90</td>\n",
       "      <td>2199.0333</td>\n",
       "      <td>909.7926</td>\n",
       "      <td>1.3204</td>\n",
       "      <td>100.0</td>\n",
       "      <td>104.2367</td>\n",
       "      <td>0.1217</td>\n",
       "      <td>1.4882</td>\n",
       "      <td>-0.0124</td>\n",
       "      <td>...</td>\n",
       "      <td>73.8432</td>\n",
       "      <td>0.4990</td>\n",
       "      <td>0.0103</td>\n",
       "      <td>0.0025</td>\n",
       "      <td>2.0544</td>\n",
       "      <td>0.0202</td>\n",
       "      <td>0.0149</td>\n",
       "      <td>0.0044</td>\n",
       "      <td>73.8432</td>\n",
       "      <td>-1</td>\n",
       "    </tr>\n",
       "    <tr>\n",
       "      <th>4</th>\n",
       "      <td>3032.24</td>\n",
       "      <td>2502.87</td>\n",
       "      <td>2233.3667</td>\n",
       "      <td>1326.5200</td>\n",
       "      <td>1.5334</td>\n",
       "      <td>100.0</td>\n",
       "      <td>100.3967</td>\n",
       "      <td>0.1235</td>\n",
       "      <td>1.5031</td>\n",
       "      <td>-0.0031</td>\n",
       "      <td>...</td>\n",
       "      <td>NaN</td>\n",
       "      <td>0.4800</td>\n",
       "      <td>0.4766</td>\n",
       "      <td>0.1045</td>\n",
       "      <td>99.3032</td>\n",
       "      <td>0.0202</td>\n",
       "      <td>0.0149</td>\n",
       "      <td>0.0044</td>\n",
       "      <td>73.8432</td>\n",
       "      <td>-1</td>\n",
       "    </tr>\n",
       "  </tbody>\n",
       "</table>\n",
       "<p>5 rows × 591 columns</p>\n",
       "</div>"
      ],
      "text/plain": [
       "   sensor_0  sensor_1   sensor_2   sensor_3  sensor_4  sensor_5  sensor_6  \\\n",
       "0   3030.93   2564.00  2187.7333  1411.1265    1.3602     100.0   97.6133   \n",
       "1   3095.78   2465.14  2230.4222  1463.6606    0.8294     100.0  102.3433   \n",
       "2   2932.61   2559.94  2186.4111  1698.0172    1.5102     100.0   95.4878   \n",
       "3   2988.72   2479.90  2199.0333   909.7926    1.3204     100.0  104.2367   \n",
       "4   3032.24   2502.87  2233.3667  1326.5200    1.5334     100.0  100.3967   \n",
       "\n",
       "   sensor_7  sensor_8  sensor_9  ...  sensor_581  sensor_582  sensor_583  \\\n",
       "0    0.1242    1.5005    0.0162  ...         NaN      0.5005      0.0118   \n",
       "1    0.1247    1.4966   -0.0005  ...    208.2045      0.5019      0.0223   \n",
       "2    0.1241    1.4436    0.0041  ...     82.8602      0.4958      0.0157   \n",
       "3    0.1217    1.4882   -0.0124  ...     73.8432      0.4990      0.0103   \n",
       "4    0.1235    1.5031   -0.0031  ...         NaN      0.4800      0.4766   \n",
       "\n",
       "   sensor_584  sensor_585  sensor_586  sensor_587  sensor_588  sensor_589  \\\n",
       "0      0.0035      2.3630         NaN         NaN         NaN         NaN   \n",
       "1      0.0055      4.4447      0.0096      0.0201      0.0060    208.2045   \n",
       "2      0.0039      3.1745      0.0584      0.0484      0.0148     82.8602   \n",
       "3      0.0025      2.0544      0.0202      0.0149      0.0044     73.8432   \n",
       "4      0.1045     99.3032      0.0202      0.0149      0.0044     73.8432   \n",
       "\n",
       "   target_variable  \n",
       "0               -1  \n",
       "1               -1  \n",
       "2                1  \n",
       "3               -1  \n",
       "4               -1  \n",
       "\n",
       "[5 rows x 591 columns]"
      ]
     },
     "execution_count": 9,
     "metadata": {},
     "output_type": "execute_result"
    }
   ],
   "source": [
    "df.head()"
   ]
  },
  {
   "cell_type": "code",
   "execution_count": 10,
   "metadata": {},
   "outputs": [
    {
     "name": "stdout",
     "output_type": "stream",
     "text": [
      "target_variable\n",
      "-1    1463\n",
      " 1     104\n",
      "dtype: int64\n"
     ]
    }
   ],
   "source": [
    "#Class distribution\n",
    "class_counts = df.groupby('target_variable').size()\n",
    "print(class_counts)"
   ]
  },
  {
   "cell_type": "code",
   "execution_count": 11,
   "metadata": {},
   "outputs": [
    {
     "name": "stdout",
     "output_type": "stream",
     "text": [
      "sensor_0           float64\n",
      "sensor_1           float64\n",
      "sensor_2           float64\n",
      "sensor_3           float64\n",
      "sensor_4           float64\n",
      "                    ...   \n",
      "sensor_586         float64\n",
      "sensor_587         float64\n",
      "sensor_588         float64\n",
      "sensor_589         float64\n",
      "target_variable      int64\n",
      "Length: 591, dtype: object\n"
     ]
    }
   ],
   "source": [
    "types = df.dtypes\n",
    "print(types)"
   ]
  },
  {
   "cell_type": "markdown",
   "metadata": {},
   "source": [
    "# Data preprocessing\n",
    "\n",
    "Since I am planning to use Random Forest, I will just check for missing values, since Random Forest is not senstive to outliers and non-transformed variables"
   ]
  },
  {
   "cell_type": "markdown",
   "metadata": {},
   "source": [
    "### 1.1 Checking missing values"
   ]
  },
  {
   "cell_type": "code",
   "execution_count": 12,
   "metadata": {},
   "outputs": [
    {
     "data": {
      "image/png": "[encoded data removed]",
      "text/plain": [
       "<Figure size 2160x1296 with 1 Axes>"
      ]
     },
     "metadata": {
      "needs_background": "light"
     },
     "output_type": "display_data"
    }
   ],
   "source": [
    "#Setting up plot size\n",
    "plt.rcParams[\"figure.figsize\"] = (30,18)\n",
    "\n",
    "#Plotting variables with number of missing values\n",
    "sns.heatmap(df.isnull(), cbar=False);"
   ]
  },
  {
   "cell_type": "code",
   "execution_count": 13,
   "metadata": {},
   "outputs": [],
   "source": [
    "#Removing columns with a 15% of missing values (arbitrary %)\n",
    "df_2 = df.loc[:, df.isnull().mean() <= .15]"
   ]
  },
  {
   "cell_type": "code",
   "execution_count": 14,
   "metadata": {},
   "outputs": [
    {
     "data": {
      "text/plain": [
       "(1567, 539)"
      ]
     },
     "execution_count": 14,
     "metadata": {},
     "output_type": "execute_result"
    }
   ],
   "source": [
    "df_2.shape"
   ]
  },
  {
   "cell_type": "markdown",
   "metadata": {},
   "source": [
    "### 1.2. Data imputation (using mean)"
   ]
  },
  {
   "cell_type": "code",
   "execution_count": 15,
   "metadata": {},
   "outputs": [],
   "source": [
    "# imputing missing values with just the mean\n",
    "df_3 =  df_2.fillna(df_2.mean())"
   ]
  },
  {
   "cell_type": "markdown",
   "metadata": {},
   "source": [
    "# Split into Train and Test Sets"
   ]
  },
  {
   "cell_type": "code",
   "execution_count": 16,
   "metadata": {},
   "outputs": [],
   "source": [
    "X = df_3.drop(columns=['target_variable'], axis=1).values"
   ]
  },
  {
   "cell_type": "code",
   "execution_count": 17,
   "metadata": {},
   "outputs": [],
   "source": [
    "Y = df_3.target_variable"
   ]
  },
  {
   "cell_type": "code",
   "execution_count": 18,
   "metadata": {},
   "outputs": [],
   "source": [
    "test_size = 0.20"
   ]
  },
  {
   "cell_type": "code",
   "execution_count": 19,
   "metadata": {},
   "outputs": [],
   "source": [
    "seed = 7"
   ]
  },
  {
   "cell_type": "code",
   "execution_count": 20,
   "metadata": {},
   "outputs": [],
   "source": [
    "X_train, X_test, Y_train, Y_test = train_test_split(X, Y, test_size=test_size,\n",
    "random_state=seed)"
   ]
  },
  {
   "cell_type": "code",
   "execution_count": 21,
   "metadata": {},
   "outputs": [
    {
     "data": {
      "text/plain": [
       "(1253, 538)"
      ]
     },
     "execution_count": 21,
     "metadata": {},
     "output_type": "execute_result"
    }
   ],
   "source": [
    "X_train.shape"
   ]
  },
  {
   "cell_type": "markdown",
   "metadata": {},
   "source": [
    "# Feature selection with Boruta"
   ]
  },
  {
   "cell_type": "code",
   "execution_count": 22,
   "metadata": {},
   "outputs": [],
   "source": [
    "rf = RandomForestClassifier(n_jobs=-1, n_estimators=500, oob_score=True, max_depth=6)"
   ]
  },
  {
   "cell_type": "code",
   "execution_count": 23,
   "metadata": {},
   "outputs": [],
   "source": [
    "feat_selector = BorutaPy(rf, n_estimators='auto', verbose=2, random_state=42)"
   ]
  },
  {
   "cell_type": "code",
   "execution_count": 24,
   "metadata": {
    "scrolled": true
   },
   "outputs": [
    {
     "name": "stdout",
     "output_type": "stream",
     "text": [
      "Iteration: \t1 / 100\n",
      "Confirmed: \t0\n",
      "Tentative: \t538\n",
      "Rejected: \t0\n",
      "Iteration: \t2 / 100\n",
      "Confirmed: \t0\n",
      "Tentative: \t538\n",
      "Rejected: \t0\n",
      "Iteration: \t3 / 100\n",
      "Confirmed: \t0\n",
      "Tentative: \t538\n",
      "Rejected: \t0\n",
      "Iteration: \t4 / 100\n",
      "Confirmed: \t0\n",
      "Tentative: \t538\n",
      "Rejected: \t0\n",
      "Iteration: \t5 / 100\n",
      "Confirmed: \t0\n",
      "Tentative: \t538\n",
      "Rejected: \t0\n",
      "Iteration: \t6 / 100\n",
      "Confirmed: \t0\n",
      "Tentative: \t538\n",
      "Rejected: \t0\n",
      "Iteration: \t7 / 100\n",
      "Confirmed: \t0\n",
      "Tentative: \t538\n",
      "Rejected: \t0\n",
      "Iteration: \t8 / 100\n",
      "Confirmed: \t0\n",
      "Tentative: \t16\n",
      "Rejected: \t522\n",
      "Iteration: \t9 / 100\n",
      "Confirmed: \t2\n",
      "Tentative: \t14\n",
      "Rejected: \t522\n",
      "Iteration: \t10 / 100\n",
      "Confirmed: \t2\n",
      "Tentative: \t14\n",
      "Rejected: \t522\n",
      "Iteration: \t11 / 100\n",
      "Confirmed: \t2\n",
      "Tentative: \t14\n",
      "Rejected: \t522\n",
      "Iteration: \t12 / 100\n",
      "Confirmed: \t3\n",
      "Tentative: \t13\n",
      "Rejected: \t522\n",
      "Iteration: \t13 / 100\n",
      "Confirmed: \t3\n",
      "Tentative: \t13\n",
      "Rejected: \t522\n",
      "Iteration: \t14 / 100\n",
      "Confirmed: \t3\n",
      "Tentative: \t13\n",
      "Rejected: \t522\n",
      "Iteration: \t15 / 100\n",
      "Confirmed: \t3\n",
      "Tentative: \t13\n",
      "Rejected: \t522\n",
      "Iteration: \t16 / 100\n",
      "Confirmed: \t4\n",
      "Tentative: \t12\n",
      "Rejected: \t522\n",
      "Iteration: \t17 / 100\n",
      "Confirmed: \t4\n",
      "Tentative: \t12\n",
      "Rejected: \t522\n",
      "Iteration: \t18 / 100\n",
      "Confirmed: \t4\n",
      "Tentative: \t12\n",
      "Rejected: \t522\n",
      "Iteration: \t19 / 100\n",
      "Confirmed: \t6\n",
      "Tentative: \t10\n",
      "Rejected: \t522\n",
      "Iteration: \t20 / 100\n",
      "Confirmed: \t6\n",
      "Tentative: \t10\n",
      "Rejected: \t522\n",
      "Iteration: \t21 / 100\n",
      "Confirmed: \t6\n",
      "Tentative: \t10\n",
      "Rejected: \t522\n",
      "Iteration: \t22 / 100\n",
      "Confirmed: \t6\n",
      "Tentative: \t10\n",
      "Rejected: \t522\n",
      "Iteration: \t23 / 100\n",
      "Confirmed: \t6\n",
      "Tentative: \t10\n",
      "Rejected: \t522\n",
      "Iteration: \t24 / 100\n",
      "Confirmed: \t6\n",
      "Tentative: \t10\n",
      "Rejected: \t522\n",
      "Iteration: \t25 / 100\n",
      "Confirmed: \t6\n",
      "Tentative: \t10\n",
      "Rejected: \t522\n",
      "Iteration: \t26 / 100\n",
      "Confirmed: \t6\n",
      "Tentative: \t10\n",
      "Rejected: \t522\n",
      "Iteration: \t27 / 100\n",
      "Confirmed: \t6\n",
      "Tentative: \t10\n",
      "Rejected: \t522\n",
      "Iteration: \t28 / 100\n",
      "Confirmed: \t6\n",
      "Tentative: \t10\n",
      "Rejected: \t522\n",
      "Iteration: \t29 / 100\n",
      "Confirmed: \t7\n",
      "Tentative: \t9\n",
      "Rejected: \t522\n",
      "Iteration: \t30 / 100\n",
      "Confirmed: \t7\n",
      "Tentative: \t9\n",
      "Rejected: \t522\n",
      "Iteration: \t31 / 100\n",
      "Confirmed: \t7\n",
      "Tentative: \t9\n",
      "Rejected: \t522\n",
      "Iteration: \t32 / 100\n",
      "Confirmed: \t8\n",
      "Tentative: \t8\n",
      "Rejected: \t522\n",
      "Iteration: \t33 / 100\n",
      "Confirmed: \t8\n",
      "Tentative: \t8\n",
      "Rejected: \t522\n",
      "Iteration: \t34 / 100\n",
      "Confirmed: \t9\n",
      "Tentative: \t7\n",
      "Rejected: \t522\n",
      "Iteration: \t35 / 100\n",
      "Confirmed: \t9\n",
      "Tentative: \t7\n",
      "Rejected: \t522\n",
      "Iteration: \t36 / 100\n",
      "Confirmed: \t9\n",
      "Tentative: \t7\n",
      "Rejected: \t522\n",
      "Iteration: \t37 / 100\n",
      "Confirmed: \t9\n",
      "Tentative: \t7\n",
      "Rejected: \t522\n",
      "Iteration: \t38 / 100\n",
      "Confirmed: \t9\n",
      "Tentative: \t7\n",
      "Rejected: \t522\n",
      "Iteration: \t39 / 100\n",
      "Confirmed: \t9\n",
      "Tentative: \t7\n",
      "Rejected: \t522\n",
      "Iteration: \t40 / 100\n",
      "Confirmed: \t9\n",
      "Tentative: \t7\n",
      "Rejected: \t522\n",
      "Iteration: \t41 / 100\n",
      "Confirmed: \t9\n",
      "Tentative: \t7\n",
      "Rejected: \t522\n",
      "Iteration: \t42 / 100\n",
      "Confirmed: \t9\n",
      "Tentative: \t7\n",
      "Rejected: \t522\n",
      "Iteration: \t43 / 100\n",
      "Confirmed: \t9\n",
      "Tentative: \t7\n",
      "Rejected: \t522\n",
      "Iteration: \t44 / 100\n",
      "Confirmed: \t9\n",
      "Tentative: \t7\n",
      "Rejected: \t522\n",
      "Iteration: \t45 / 100\n",
      "Confirmed: \t9\n",
      "Tentative: \t7\n",
      "Rejected: \t522\n",
      "Iteration: \t46 / 100\n",
      "Confirmed: \t9\n",
      "Tentative: \t7\n",
      "Rejected: \t522\n",
      "Iteration: \t47 / 100\n",
      "Confirmed: \t9\n",
      "Tentative: \t7\n",
      "Rejected: \t522\n",
      "Iteration: \t48 / 100\n",
      "Confirmed: \t9\n",
      "Tentative: \t7\n",
      "Rejected: \t522\n",
      "Iteration: \t49 / 100\n",
      "Confirmed: \t9\n",
      "Tentative: \t7\n",
      "Rejected: \t522\n",
      "Iteration: \t50 / 100\n",
      "Confirmed: \t9\n",
      "Tentative: \t7\n",
      "Rejected: \t522\n",
      "Iteration: \t51 / 100\n",
      "Confirmed: \t9\n",
      "Tentative: \t7\n",
      "Rejected: \t522\n",
      "Iteration: \t52 / 100\n",
      "Confirmed: \t9\n",
      "Tentative: \t7\n",
      "Rejected: \t522\n",
      "Iteration: \t53 / 100\n",
      "Confirmed: \t9\n",
      "Tentative: \t7\n",
      "Rejected: \t522\n",
      "Iteration: \t54 / 100\n",
      "Confirmed: \t9\n",
      "Tentative: \t7\n",
      "Rejected: \t522\n",
      "Iteration: \t55 / 100\n",
      "Confirmed: \t9\n",
      "Tentative: \t7\n",
      "Rejected: \t522\n",
      "Iteration: \t56 / 100\n",
      "Confirmed: \t9\n",
      "Tentative: \t7\n",
      "Rejected: \t522\n",
      "Iteration: \t57 / 100\n",
      "Confirmed: \t9\n",
      "Tentative: \t7\n",
      "Rejected: \t522\n",
      "Iteration: \t58 / 100\n",
      "Confirmed: \t9\n",
      "Tentative: \t7\n",
      "Rejected: \t522\n",
      "Iteration: \t59 / 100\n",
      "Confirmed: \t9\n",
      "Tentative: \t7\n",
      "Rejected: \t522\n",
      "Iteration: \t60 / 100\n",
      "Confirmed: \t9\n",
      "Tentative: \t7\n",
      "Rejected: \t522\n",
      "Iteration: \t61 / 100\n",
      "Confirmed: \t9\n",
      "Tentative: \t7\n",
      "Rejected: \t522\n",
      "Iteration: \t62 / 100\n",
      "Confirmed: \t9\n",
      "Tentative: \t6\n",
      "Rejected: \t523\n",
      "Iteration: \t63 / 100\n",
      "Confirmed: \t9\n",
      "Tentative: \t6\n",
      "Rejected: \t523\n",
      "Iteration: \t64 / 100\n",
      "Confirmed: \t9\n",
      "Tentative: \t6\n",
      "Rejected: \t523\n",
      "Iteration: \t65 / 100\n",
      "Confirmed: \t9\n",
      "Tentative: \t6\n",
      "Rejected: \t523\n",
      "Iteration: \t66 / 100\n",
      "Confirmed: \t9\n",
      "Tentative: \t6\n",
      "Rejected: \t523\n",
      "Iteration: \t67 / 100\n",
      "Confirmed: \t9\n",
      "Tentative: \t6\n",
      "Rejected: \t523\n",
      "Iteration: \t68 / 100\n",
      "Confirmed: \t9\n",
      "Tentative: \t6\n",
      "Rejected: \t523\n",
      "Iteration: \t69 / 100\n",
      "Confirmed: \t9\n",
      "Tentative: \t6\n",
      "Rejected: \t523\n",
      "Iteration: \t70 / 100\n",
      "Confirmed: \t9\n",
      "Tentative: \t6\n",
      "Rejected: \t523\n",
      "Iteration: \t71 / 100\n",
      "Confirmed: \t9\n",
      "Tentative: \t6\n",
      "Rejected: \t523\n",
      "Iteration: \t72 / 100\n",
      "Confirmed: \t9\n",
      "Tentative: \t6\n",
      "Rejected: \t523\n",
      "Iteration: \t73 / 100\n",
      "Confirmed: \t9\n",
      "Tentative: \t6\n",
      "Rejected: \t523\n",
      "Iteration: \t74 / 100\n",
      "Confirmed: \t9\n",
      "Tentative: \t6\n",
      "Rejected: \t523\n",
      "Iteration: \t75 / 100\n",
      "Confirmed: \t10\n",
      "Tentative: \t5\n",
      "Rejected: \t523\n",
      "Iteration: \t76 / 100\n",
      "Confirmed: \t10\n",
      "Tentative: \t5\n",
      "Rejected: \t523\n",
      "Iteration: \t77 / 100\n",
      "Confirmed: \t11\n",
      "Tentative: \t4\n",
      "Rejected: \t523\n",
      "Iteration: \t78 / 100\n",
      "Confirmed: \t11\n",
      "Tentative: \t4\n",
      "Rejected: \t523\n",
      "Iteration: \t79 / 100\n",
      "Confirmed: \t11\n",
      "Tentative: \t4\n",
      "Rejected: \t523\n",
      "Iteration: \t80 / 100\n",
      "Confirmed: \t11\n",
      "Tentative: \t4\n",
      "Rejected: \t523\n",
      "Iteration: \t81 / 100\n",
      "Confirmed: \t11\n",
      "Tentative: \t4\n",
      "Rejected: \t523\n",
      "Iteration: \t82 / 100\n",
      "Confirmed: \t11\n",
      "Tentative: \t4\n",
      "Rejected: \t523\n",
      "Iteration: \t83 / 100\n",
      "Confirmed: \t11\n",
      "Tentative: \t4\n",
      "Rejected: \t523\n",
      "Iteration: \t84 / 100\n",
      "Confirmed: \t11\n",
      "Tentative: \t4\n",
      "Rejected: \t523\n",
      "Iteration: \t85 / 100\n",
      "Confirmed: \t11\n",
      "Tentative: \t4\n",
      "Rejected: \t523\n",
      "Iteration: \t86 / 100\n",
      "Confirmed: \t11\n",
      "Tentative: \t4\n",
      "Rejected: \t523\n",
      "Iteration: \t87 / 100\n",
      "Confirmed: \t11\n",
      "Tentative: \t4\n",
      "Rejected: \t523\n",
      "Iteration: \t88 / 100\n",
      "Confirmed: \t12\n",
      "Tentative: \t3\n",
      "Rejected: \t523\n",
      "Iteration: \t89 / 100\n",
      "Confirmed: \t12\n",
      "Tentative: \t3\n",
      "Rejected: \t523\n",
      "Iteration: \t90 / 100\n",
      "Confirmed: \t12\n",
      "Tentative: \t3\n",
      "Rejected: \t523\n",
      "Iteration: \t91 / 100\n",
      "Confirmed: \t12\n",
      "Tentative: \t3\n",
      "Rejected: \t523\n",
      "Iteration: \t92 / 100\n",
      "Confirmed: \t12\n",
      "Tentative: \t3\n",
      "Rejected: \t523\n",
      "Iteration: \t93 / 100\n",
      "Confirmed: \t12\n",
      "Tentative: \t3\n",
      "Rejected: \t523\n",
      "Iteration: \t94 / 100\n",
      "Confirmed: \t12\n",
      "Tentative: \t3\n",
      "Rejected: \t523\n",
      "Iteration: \t95 / 100\n",
      "Confirmed: \t12\n",
      "Tentative: \t3\n",
      "Rejected: \t523\n",
      "Iteration: \t96 / 100\n",
      "Confirmed: \t12\n",
      "Tentative: \t3\n",
      "Rejected: \t523\n",
      "Iteration: \t97 / 100\n",
      "Confirmed: \t12\n",
      "Tentative: \t3\n",
      "Rejected: \t523\n",
      "Iteration: \t98 / 100\n",
      "Confirmed: \t12\n",
      "Tentative: \t3\n",
      "Rejected: \t523\n",
      "Iteration: \t99 / 100\n",
      "Confirmed: \t12\n",
      "Tentative: \t3\n",
      "Rejected: \t523\n",
      "\n",
      "\n",
      "BorutaPy finished running.\n",
      "\n",
      "Iteration: \t100 / 100\n",
      "Confirmed: \t12\n",
      "Tentative: \t3\n",
      "Rejected: \t523\n"
     ]
    },
    {
     "data": {
      "text/plain": [
       "BorutaPy(estimator=RandomForestClassifier(max_depth=6, n_estimators=91,\n",
       "                                          n_jobs=-1, oob_score=True,\n",
       "                                          random_state=RandomState(MT19937) at 0x7FD09510A340),\n",
       "         n_estimators='auto',\n",
       "         random_state=RandomState(MT19937) at 0x7FD09510A340, verbose=2)"
      ]
     },
     "execution_count": 24,
     "metadata": {},
     "output_type": "execute_result"
    }
   ],
   "source": [
    "feat_selector.fit(X_train, Y_train)"
   ]
  },
  {
   "cell_type": "code",
   "execution_count": 25,
   "metadata": {},
   "outputs": [],
   "source": [
    "X_filtered = feat_selector.transform(X_train)"
   ]
  },
  {
   "cell_type": "code",
   "execution_count": 26,
   "metadata": {},
   "outputs": [
    {
     "data": {
      "text/plain": [
       "(1253, 12)"
      ]
     },
     "execution_count": 26,
     "metadata": {},
     "output_type": "execute_result"
    }
   ],
   "source": [
    "X_filtered.shape"
   ]
  },
  {
   "cell_type": "code",
   "execution_count": 27,
   "metadata": {},
   "outputs": [
    {
     "data": {
      "text/plain": [
       "538"
      ]
     },
     "execution_count": 27,
     "metadata": {},
     "output_type": "execute_result"
    }
   ],
   "source": [
    "features = [f for f in df_3.columns if f not in ['target_variable']]\n",
    "len(features)"
   ]
  },
  {
   "cell_type": "code",
   "execution_count": 28,
   "metadata": {},
   "outputs": [
    {
     "name": "stdout",
     "output_type": "stream",
     "text": [
      "['sensor_38', 'sensor_40', 'sensor_59', 'sensor_64', 'sensor_65', 'sensor_153', 'sensor_267', 'sensor_348', 'sensor_426', 'sensor_441', 'sensor_477', 'sensor_539']\n"
     ]
    }
   ],
   "source": [
    "final_features = list()\n",
    "indexes = np.where(feat_selector.support_ == True)\n",
    "for x in np.nditer(indexes):\n",
    "    final_features.append(features[x])\n",
    "print(final_features)"
   ]
  },
  {
   "cell_type": "code",
   "execution_count": 29,
   "metadata": {},
   "outputs": [],
   "source": [
    "X_test = feat_selector.transform(X_test)"
   ]
  },
  {
   "cell_type": "code",
   "execution_count": 30,
   "metadata": {},
   "outputs": [
    {
     "data": {
      "text/plain": [
       "(314, 12)"
      ]
     },
     "execution_count": 30,
     "metadata": {},
     "output_type": "execute_result"
    }
   ],
   "source": [
    "X_test.shape"
   ]
  },
  {
   "cell_type": "markdown",
   "metadata": {},
   "source": [
    "# Imbalacened dataset"
   ]
  },
  {
   "cell_type": "code",
   "execution_count": 31,
   "metadata": {},
   "outputs": [],
   "source": [
    "smote = SMOTE(sampling_strategy=0.9, random_state=42)"
   ]
  },
  {
   "cell_type": "code",
   "execution_count": 32,
   "metadata": {},
   "outputs": [],
   "source": [
    "X_sm, y_sm = smote.fit_resample(X_filtered, Y_train)"
   ]
  },
  {
   "cell_type": "code",
   "execution_count": 33,
   "metadata": {},
   "outputs": [
    {
     "name": "stdout",
     "output_type": "stream",
     "text": [
      "Shape of X before SMOTE: (1253, 12)\n",
      "Shape of X after SMOTE: (2207, 12)\n",
      "\n",
      "Balance of positive and negative classes (%):\n"
     ]
    },
    {
     "data": {
      "text/plain": [
       "-1    52.650657\n",
       " 1    47.349343\n",
       "Name: target_variable, dtype: float64"
      ]
     },
     "execution_count": 33,
     "metadata": {},
     "output_type": "execute_result"
    }
   ],
   "source": [
    "print(f'''Shape of X before SMOTE: {X_filtered.shape}\n",
    "Shape of X after SMOTE: {X_sm.shape}''')\n",
    "\n",
    "print('\\nBalance of positive and negative classes (%):')\n",
    "y_sm.value_counts(normalize=True) * 100"
   ]
  },
  {
   "cell_type": "markdown",
   "metadata": {},
   "source": [
    "# Predictions"
   ]
  },
  {
   "cell_type": "code",
   "execution_count": 34,
   "metadata": {},
   "outputs": [
    {
     "data": {
      "text/plain": [
       "RandomForestClassifier(random_state=42)"
      ]
     },
     "execution_count": 34,
     "metadata": {},
     "output_type": "execute_result"
    }
   ],
   "source": [
    "model = RandomForestClassifier(random_state=42)\n",
    "model.fit(X_sm, y_sm)"
   ]
  },
  {
   "cell_type": "code",
   "execution_count": 35,
   "metadata": {},
   "outputs": [],
   "source": [
    "preds = model.predict(X_test)"
   ]
  },
  {
   "cell_type": "code",
   "execution_count": 39,
   "metadata": {},
   "outputs": [
    {
     "name": "stdout",
     "output_type": "stream",
     "text": [
      "Accuracy = 0.91\n",
      "Precision = 0.17\n",
      "Recall = 0.31\n",
      "\n"
     ]
    },
    {
     "data": {
      "image/png": "[encoded data removed]",
      "text/plain": [
       "<Figure size 576x432 with 2 Axes>"
      ]
     },
     "metadata": {
      "needs_background": "light"
     },
     "output_type": "display_data"
    }
   ],
   "source": [
    "print(f'Accuracy = {accuracy_score(Y_test, preds):.2f}\\nPrecision = {precision_score(Y_test, preds):.2f}\\nRecall = {recall_score(Y_test, preds):.2f}\\n')\n",
    "cm = confusion_matrix(Y_test, preds)\n",
    "plt.figure(figsize=(8, 6))\n",
    "plt.title('Confusion Matrix (with SMOTE)', size=16)\n",
    "sns.heatmap(cm, annot=True, cmap='Blues');"
   ]
  },
  {
   "cell_type": "markdown",
   "metadata": {},
   "source": [
    "# Predictions with Tomek Links to improve Recall "
   ]
  },
  {
   "cell_type": "code",
   "execution_count": 43,
   "metadata": {},
   "outputs": [],
   "source": [
    "tl = TomekLinks()"
   ]
  },
  {
   "cell_type": "code",
   "execution_count": 44,
   "metadata": {},
   "outputs": [],
   "source": [
    "X_tl, y_tl = tl.fit_resample(X_sm, y_sm)"
   ]
  },
  {
   "cell_type": "code",
   "execution_count": 46,
   "metadata": {},
   "outputs": [
    {
     "name": "stdout",
     "output_type": "stream",
     "text": [
      "Shape of X before Tomek Link: (2207, 12)\n",
      "Shape of X after Tomek link: (2194, 12)\n",
      "\n",
      "Balance of positive and negative classes (%):\n"
     ]
    },
    {
     "data": {
      "text/plain": [
       "-1    52.3701\n",
       " 1    47.6299\n",
       "Name: target_variable, dtype: float64"
      ]
     },
     "execution_count": 46,
     "metadata": {},
     "output_type": "execute_result"
    }
   ],
   "source": [
    "print(f'''Shape of X before Tomek Link: {X_sm.shape}\n",
    "Shape of X after Tomek link: {X_tl.shape}''')\n",
    "\n",
    "print('\\nBalance of positive and negative classes (%):')\n",
    "y_tl.value_counts(normalize=True) * 100"
   ]
  },
  {
   "cell_type": "code",
   "execution_count": 47,
   "metadata": {},
   "outputs": [
    {
     "data": {
      "text/plain": [
       "RandomForestClassifier(random_state=42)"
      ]
     },
     "execution_count": 47,
     "metadata": {},
     "output_type": "execute_result"
    }
   ],
   "source": [
    "model = RandomForestClassifier(random_state=42)\n",
    "model.fit(X_tl, y_tl)"
   ]
  },
  {
   "cell_type": "code",
   "execution_count": 48,
   "metadata": {},
   "outputs": [],
   "source": [
    "preds = model.predict(X_test)"
   ]
  },
  {
   "cell_type": "code",
   "execution_count": 49,
   "metadata": {},
   "outputs": [
    {
     "name": "stdout",
     "output_type": "stream",
     "text": [
      "Accuracy = 0.91\n",
      "Precision = 0.18\n",
      "Recall = 0.31\n",
      "\n"
     ]
    },
    {
     "data": {
      "image/png": "[encoded data removed]",
      "text/plain": [
       "<Figure size 576x432 with 2 Axes>"
      ]
     },
     "metadata": {
      "needs_background": "light"
     },
     "output_type": "display_data"
    }
   ],
   "source": [
    "print(f'Accuracy = {accuracy_score(Y_test, preds):.2f}\\nPrecision = {precision_score(Y_test, preds):.2f}\\nRecall = {recall_score(Y_test, preds):.2f}\\n')\n",
    "cm = confusion_matrix(Y_test, preds)\n",
    "plt.figure(figsize=(8, 6))\n",
    "plt.title('Confusion Matrix (with SMOTE)', size=16)\n",
    "sns.heatmap(cm, annot=True, cmap='Blues');"
   ]
  },
  {
   "cell_type": "code",
   "execution_count": null,
   "metadata": {},
   "outputs": [],
   "source": []
  }
 ],
 "metadata": {
  "kernelspec": {
   "display_name": "Python 3",
   "language": "python",
   "name": "python3"
  },
  "language_info": {
   "codemirror_mode": {
    "name": "ipython",
    "version": 3
   },
   "file_extension": ".py",
   "mimetype": "text/x-python",
   "name": "python",
   "nbconvert_exporter": "python",
   "pygments_lexer": "ipython3",
   "version": "3.8.8"
  }
 },
 "nbformat": 4,
 "nbformat_minor": 4
}
